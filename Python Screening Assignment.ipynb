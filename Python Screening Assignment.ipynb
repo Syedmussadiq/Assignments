{
 "cells": [
  {
   "cell_type": "code",
   "execution_count": null,
   "id": "6a2716dd",
   "metadata": {},
   "outputs": [],
   "source": [
    "1. Create a function in python to read the text file and replace specific content\n",
    "of the file."
   ]
  },
  {
   "cell_type": "markdown",
   "id": "decb67f9",
   "metadata": {},
   "source": [
    "example.txt\n",
    "This is a placement assignment\n",
    "Placement should be replaced by screening.\n",
    "This is a screening assignment"
   ]
  },
  {
   "cell_type": "code",
   "execution_count": 29,
   "id": "797e133c",
   "metadata": {},
   "outputs": [
    {
     "name": "stdout",
     "output_type": "stream",
     "text": [
      "This is a Placement assignment\n",
      "This is a Screening assignment\n",
      "file was read and overwritten\n"
     ]
    }
   ],
   "source": [
    "ANS:\n",
    "def replace(file):\n",
    "    try:\n",
    "        with open(file,'r') as f:\n",
    "            data=f.read()\n",
    "            print(data)\n",
    "            data=data.replace('Placement','Screening')\n",
    "            print(data)\n",
    "        with open(file,'w') as f:\n",
    "            f.write(data)\n",
    "    except Exception as e:\n",
    "            print(e)\n",
    "            \n",
    "    else:\n",
    "            print('file was read and overwritten')\n",
    "            \n",
    "replace('example.txt')    #text in the file gets replaced"
   ]
  },
  {
   "cell_type": "code",
   "execution_count": null,
   "id": "4a9aad63",
   "metadata": {},
   "outputs": [],
   "source": [
    "2. Demonstrate use of abstract class, multiple inheritance and decorator in\n",
    "python using examples."
   ]
  },
  {
   "cell_type": "code",
   "execution_count": 30,
   "id": "f798949b",
   "metadata": {},
   "outputs": [
    {
     "name": "stdout",
     "output_type": "stream",
     "text": [
      "update this\n",
      "this is another subclass\n"
     ]
    }
   ],
   "source": [
    "ABC:\n",
    "from abc import ABC, abstractmethod\n",
    "\n",
    "class AbstractClass(ABC):\n",
    "    @abstractmethod\n",
    "    def working(self):\n",
    "        print('update this')\n",
    "        \n",
    "class SubclassOne(AbstractClass):\n",
    "    def working(self):\n",
    "        super().working()\n",
    "        print('this is another subclass')\n",
    "\n",
    "x = SubclassOne()\n",
    "x.working()"
   ]
  },
  {
   "cell_type": "code",
   "execution_count": 31,
   "id": "d6627a64",
   "metadata": {},
   "outputs": [
    {
     "name": "stdout",
     "output_type": "stream",
     "text": [
      "In A4\n",
      "In A2\n",
      "In A3\n",
      "In A1\n"
     ]
    }
   ],
   "source": [
    "##Multiple Inheritence \n",
    "class A1:\n",
    "    def s(self):\n",
    "        print(\"In A1\")\n",
    " \n",
    "class A2(A1):\n",
    "    def s(self):\n",
    "        print(\"In A2\")\n",
    "        super().s()\n",
    " \n",
    "class A3(A1):\n",
    "    def s(self):\n",
    "        print(\"In A3\")\n",
    "        super().s()\n",
    " \n",
    "class A4(A2, A3):\n",
    "    def s(self):\n",
    "        print(\"In A4\")  \n",
    "        super().s()\n",
    "      \n",
    "obj = A4()\n",
    "obj.s()"
   ]
  },
  {
   "cell_type": "code",
   "execution_count": 34,
   "id": "b859e188",
   "metadata": {},
   "outputs": [
    {
     "name": "stdout",
     "output_type": "stream",
     "text": [
      "******************************\n",
      "%%%%%%%%%%%%%%%%%%%%%%%%%%%%%%\n",
      "Hi!I am learning python from iNeuron\n",
      "%%%%%%%%%%%%%%%%%%%%%%%%%%%%%%\n",
      "******************************\n"
     ]
    }
   ],
   "source": [
    "#DECORATOR example \n",
    "def decor(func):\n",
    "    def inner(*args, **kwargs):\n",
    "        print(\"*\" * 30)\n",
    "        func(*args, **kwargs)\n",
    "        print(\"*\" * 30)\n",
    "    return inner\n",
    "\n",
    "\n",
    "def percent_decor(func):\n",
    "    def inner(*args, **kwargs):\n",
    "        print(\"%\" * 30)\n",
    "        func(*args, **kwargs)\n",
    "        print(\"%\" * 30)\n",
    "    return inner\n",
    "\n",
    "\n",
    "@decor\n",
    "@percent_decor\n",
    "def printer_with_both(msg):\n",
    "    print(msg)\n",
    "\n",
    "\n",
    "printer_with_both(\"Hi!I am learning python from iNeuron\")"
   ]
  }
 ],
 "metadata": {
  "kernelspec": {
   "display_name": "Python 3 (ipykernel)",
   "language": "python",
   "name": "python3"
  },
  "language_info": {
   "codemirror_mode": {
    "name": "ipython",
    "version": 3
   },
   "file_extension": ".py",
   "mimetype": "text/x-python",
   "name": "python",
   "nbconvert_exporter": "python",
   "pygments_lexer": "ipython3",
   "version": "3.9.7"
  }
 },
 "nbformat": 4,
 "nbformat_minor": 5
}
